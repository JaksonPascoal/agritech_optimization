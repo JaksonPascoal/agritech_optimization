{
 "cells": [
  {
   "cell_type": "code",
   "execution_count": null,
   "id": "258908da",
   "metadata": {},
   "outputs": [
    {
     "name": "stdout",
     "output_type": "stream",
     "text": [
      "Dados carregados e prontos para análise!\n"
     ]
    }
   ],
   "source": [
    "import sys\n",
    "import os\n",
    "import pandas as pd\n",
    "\n",
    "current_dir = os.getcwd()\n",
    "parent_dir = os.path.dirname(current_dir)\n",
    "sys.path.append(parent_dir)\n",
    "\n",
    "from src.data_processing import load_and_clean_data\n",
    "\n",
    "file_path = os.path.join(parent_dir, 'data', 'dataset_simulado.csv')\n",
    "\n",
    "df = load_and_clean_data(file_path)\n",
    "\n",
    "print(\"Dados carregados e prontos para análise!\")"
   ]
  }
 ],
 "metadata": {
  "kernelspec": {
   "display_name": "Python 3",
   "language": "python",
   "name": "python3"
  },
  "language_info": {
   "codemirror_mode": {
    "name": "ipython",
    "version": 3
   },
   "file_extension": ".py",
   "mimetype": "text/x-python",
   "name": "python",
   "nbconvert_exporter": "python",
   "pygments_lexer": "ipython3",
   "version": "3.11.9"
  }
 },
 "nbformat": 4,
 "nbformat_minor": 5
}
